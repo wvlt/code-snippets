{
 "cells": [
  {
   "cell_type": "code",
   "execution_count": 1,
   "id": "3838f414-a4f0-49b2-94c1-06f04cc7ed57",
   "metadata": {},
   "outputs": [],
   "source": [
    "import pandas as pd"
   ]
  },
  {
   "cell_type": "code",
   "execution_count": 2,
   "id": "77d90415-7379-4edc-a709-c9fa20afee14",
   "metadata": {},
   "outputs": [],
   "source": [
    "salaries = [25000, 67000, 120000]"
   ]
  },
  {
   "cell_type": "code",
   "execution_count": 3,
   "id": "b7af0782-0875-4f5b-a6fc-95c6504fdea4",
   "metadata": {},
   "outputs": [
    {
     "data": {
      "text/plain": [
       "list"
      ]
     },
     "execution_count": 3,
     "metadata": {},
     "output_type": "execute_result"
    }
   ],
   "source": [
    "type(salaries)"
   ]
  },
  {
   "cell_type": "code",
   "execution_count": 5,
   "id": "5f9dc0f5-01aa-460b-bdfc-3faa24568b06",
   "metadata": {},
   "outputs": [
    {
     "name": "stdout",
     "output_type": "stream",
     "text": [
      "Adam        25000\n",
      "Jessica     67000\n",
      "Taylor     120000\n",
      "dtype: int64\n"
     ]
    }
   ],
   "source": [
    "salaries_series = pd.Series(salaries, index=['Adam', 'Jessica', 'Taylor'])\n",
    "\n",
    "print(salaries_series)"
   ]
  },
  {
   "cell_type": "code",
   "execution_count": 18,
   "id": "1b5a2b16-f6e2-4aa8-9d0b-6f518b5ecac2",
   "metadata": {},
   "outputs": [
    {
     "data": {
      "text/plain": [
       "dict"
      ]
     },
     "execution_count": 18,
     "metadata": {},
     "output_type": "execute_result"
    }
   ],
   "source": [
    "my_dict = {'Name':['Adam', 'Jessica', 'Taylor'], 'Age':[33, 45, 32]}\n",
    "\n",
    "type(my_dict)"
   ]
  },
  {
   "cell_type": "code",
   "execution_count": 19,
   "id": "7d5e4ad5-c2a9-46ca-b7c7-6f3b7fb4cc65",
   "metadata": {},
   "outputs": [
    {
     "name": "stdout",
     "output_type": "stream",
     "text": [
      "Name    [Adam, Jessica, Taylor]\n",
      "Age                [33, 45, 32]\n",
      "dtype: object\n"
     ]
    }
   ],
   "source": [
    "my_dict_series = pd.Series(my_dict)\n",
    "\n",
    "print(my_dict_series)"
   ]
  },
  {
   "cell_type": "code",
   "execution_count": 21,
   "id": "3fda59f2-07de-4be0-92df-83e6109db484",
   "metadata": {},
   "outputs": [],
   "source": [
    "my_dict_dataframe = pd.DataFrame(my_dict)"
   ]
  },
  {
   "cell_type": "code",
   "execution_count": 22,
   "id": "dbdd1095-78c0-4fa2-88dc-45780f59e90d",
   "metadata": {},
   "outputs": [
    {
     "data": {
      "text/html": [
       "<div>\n",
       "<style scoped>\n",
       "    .dataframe tbody tr th:only-of-type {\n",
       "        vertical-align: middle;\n",
       "    }\n",
       "\n",
       "    .dataframe tbody tr th {\n",
       "        vertical-align: top;\n",
       "    }\n",
       "\n",
       "    .dataframe thead th {\n",
       "        text-align: right;\n",
       "    }\n",
       "</style>\n",
       "<table border=\"1\" class=\"dataframe\">\n",
       "  <thead>\n",
       "    <tr style=\"text-align: right;\">\n",
       "      <th></th>\n",
       "      <th>Name</th>\n",
       "      <th>Age</th>\n",
       "    </tr>\n",
       "  </thead>\n",
       "  <tbody>\n",
       "    <tr>\n",
       "      <th>0</th>\n",
       "      <td>Adam</td>\n",
       "      <td>33</td>\n",
       "    </tr>\n",
       "    <tr>\n",
       "      <th>1</th>\n",
       "      <td>Jessica</td>\n",
       "      <td>45</td>\n",
       "    </tr>\n",
       "    <tr>\n",
       "      <th>2</th>\n",
       "      <td>Taylor</td>\n",
       "      <td>32</td>\n",
       "    </tr>\n",
       "  </tbody>\n",
       "</table>\n",
       "</div>"
      ],
      "text/plain": [
       "      Name  Age\n",
       "0     Adam   33\n",
       "1  Jessica   45\n",
       "2   Taylor   32"
      ]
     },
     "execution_count": 22,
     "metadata": {},
     "output_type": "execute_result"
    }
   ],
   "source": [
    "my_dict_dataframe"
   ]
  },
  {
   "cell_type": "code",
   "execution_count": 23,
   "id": "7e549bb1-bf7e-402e-94f1-ba7be8415c1e",
   "metadata": {},
   "outputs": [],
   "source": [
    "new_person = {'Name':'Don', 'Age':67}"
   ]
  },
  {
   "cell_type": "code",
   "execution_count": 25,
   "id": "ed3969c5-0acb-40f4-89a8-6edfad68541f",
   "metadata": {},
   "outputs": [],
   "source": [
    "new_person_series = pd.Series(new_person)"
   ]
  },
  {
   "cell_type": "code",
   "execution_count": 29,
   "id": "992a010d-f025-4078-bdb3-1f6bbf725dfa",
   "metadata": {},
   "outputs": [
    {
     "data": {
      "text/html": [
       "<div>\n",
       "<style scoped>\n",
       "    .dataframe tbody tr th:only-of-type {\n",
       "        vertical-align: middle;\n",
       "    }\n",
       "\n",
       "    .dataframe tbody tr th {\n",
       "        vertical-align: top;\n",
       "    }\n",
       "\n",
       "    .dataframe thead th {\n",
       "        text-align: right;\n",
       "    }\n",
       "</style>\n",
       "<table border=\"1\" class=\"dataframe\">\n",
       "  <thead>\n",
       "    <tr style=\"text-align: right;\">\n",
       "      <th></th>\n",
       "      <th>Name</th>\n",
       "      <th>Age</th>\n",
       "    </tr>\n",
       "  </thead>\n",
       "  <tbody>\n",
       "    <tr>\n",
       "      <th>0</th>\n",
       "      <td>Adam</td>\n",
       "      <td>33</td>\n",
       "    </tr>\n",
       "    <tr>\n",
       "      <th>1</th>\n",
       "      <td>Jessica</td>\n",
       "      <td>45</td>\n",
       "    </tr>\n",
       "    <tr>\n",
       "      <th>2</th>\n",
       "      <td>Taylor</td>\n",
       "      <td>32</td>\n",
       "    </tr>\n",
       "    <tr>\n",
       "      <th>3</th>\n",
       "      <td>Don</td>\n",
       "      <td>67</td>\n",
       "    </tr>\n",
       "  </tbody>\n",
       "</table>\n",
       "</div>"
      ],
      "text/plain": [
       "      Name  Age\n",
       "0     Adam   33\n",
       "1  Jessica   45\n",
       "2   Taylor   32\n",
       "3      Don   67"
      ]
     },
     "execution_count": 29,
     "metadata": {},
     "output_type": "execute_result"
    }
   ],
   "source": [
    "my_dict_dataframe.append(new_person_series, ignore_index=True)"
   ]
  },
  {
   "cell_type": "code",
   "execution_count": null,
   "id": "4719638d-0ee5-48a8-b170-272763757e39",
   "metadata": {},
   "outputs": [],
   "source": []
  }
 ],
 "metadata": {
  "kernelspec": {
   "display_name": "Python 3 (ipykernel)",
   "language": "python",
   "name": "python3"
  },
  "language_info": {
   "codemirror_mode": {
    "name": "ipython",
    "version": 3
   },
   "file_extension": ".py",
   "mimetype": "text/x-python",
   "name": "python",
   "nbconvert_exporter": "python",
   "pygments_lexer": "ipython3",
   "version": "3.8.8"
  }
 },
 "nbformat": 4,
 "nbformat_minor": 5
}
