{
 "cells": [
  {
   "cell_type": "code",
   "execution_count": 54,
   "id": "1d7e5ec8-bad0-428d-963c-f33a8bee6177",
   "metadata": {},
   "outputs": [],
   "source": [
    "from matplotlib import pyplot as plt\n",
    "import numpy as np"
   ]
  },
  {
   "cell_type": "code",
   "execution_count": 29,
   "id": "9f4f5564-ef8e-4f95-a81d-7a70d81204c4",
   "metadata": {},
   "outputs": [],
   "source": [
    "age_x = [18, 19, 20, 21, 22, 23, 24, 25, 26, 27, 28, 29, 30, 31, 32, 33, 34, 35,\n",
    "          36, 37, 38, 39, 40, 41, 42, 43, 44, 45, 46, 47, 48, 49, 50, 51, 52, 53, 54, 55]\n",
    "\n",
    "python_salary_y = [20046, 17100, 20000, 24744, 30500, 37732, 41247, 45372, 48876, 53850, 57287, 63016, 65998, 70003, 70000, 71496, 75370, 83640, 84666,\n",
    "            84392, 78254, 85000, 87038, 91991, 100000, 94796, 97962, 93302, 99240, 102736, 112285, 100771, 104708, 108423, 101407, 112542, 122870, 120000]\n",
    "\n",
    "java_salary_y = [16446, 16791, 18942, 21780, 25704, 29000, 34372, 37810, 43515, 46823, 49293, 53437, 56373, 62375, 66674, 68745, 68746, 74583, 79000,\n",
    "            78508, 79996, 80403, 83820, 88833, 91660, 87892, 96243, 90000, 99313, 91660, 102264, 100000, 100000, 91660, 99240, 108000, 105000, 104000]\n",
    "\n",
    "all_salary_y = [17784, 16500, 18012, 20628, 25206, 30252, 34368, 38496, 42000, 46752, 49320, 53200, 56000, 62316, 64928, 67317, 68748, 73752, 77232,\n",
    "         78000, 78508, 79536, 82488, 88935, 90000, 90056, 95000, 90000, 91633, 91660, 98150, 98964, 100000, 98988, 100000, 108923, 105000, 103117]"
   ]
  },
  {
   "cell_type": "code",
   "execution_count": null,
   "id": "6c4aefe1-67af-4b44-af88-0e553f715c6e",
   "metadata": {},
   "outputs": [],
   "source": []
  },
  {
   "cell_type": "code",
   "execution_count": null,
   "id": "84a67e13-b158-459d-b2be-ef54269d3a0b",
   "metadata": {},
   "outputs": [],
   "source": []
  },
  {
   "cell_type": "code",
   "execution_count": null,
   "id": "de754494-f30e-48c5-b65d-51dac1360bec",
   "metadata": {},
   "outputs": [],
   "source": []
  },
  {
   "cell_type": "code",
   "execution_count": null,
   "id": "e673086f-5446-4d1b-b041-8be8c89b85bb",
   "metadata": {},
   "outputs": [],
   "source": []
  },
  {
   "cell_type": "code",
   "execution_count": null,
   "id": "849cee5f-207d-4ba6-95ae-aec8cf289d1f",
   "metadata": {},
   "outputs": [],
   "source": []
  },
  {
   "cell_type": "code",
   "execution_count": null,
   "id": "611ffcac-1353-4ddc-8d9b-edc54f92db0d",
   "metadata": {},
   "outputs": [],
   "source": []
  },
  {
   "cell_type": "code",
   "execution_count": null,
   "id": "4a68b5cf-f827-4dac-baf4-7c5b0a20664f",
   "metadata": {},
   "outputs": [],
   "source": []
  },
  {
   "cell_type": "code",
   "execution_count": null,
   "id": "550161d3-76bb-4ce1-95cf-be2c49e065ae",
   "metadata": {},
   "outputs": [],
   "source": []
  },
  {
   "cell_type": "code",
   "execution_count": null,
   "id": "fa2cefc7-49f8-43fa-96e9-b5fadd8a8496",
   "metadata": {},
   "outputs": [],
   "source": []
  },
  {
   "cell_type": "code",
   "execution_count": null,
   "id": "bc411357-497a-4cd6-b7cb-2f91bb3325ef",
   "metadata": {},
   "outputs": [],
   "source": []
  },
  {
   "cell_type": "code",
   "execution_count": null,
   "id": "64ccbd38-5db6-4127-bc0f-2c0a1167bca5",
   "metadata": {},
   "outputs": [],
   "source": []
  },
  {
   "cell_type": "code",
   "execution_count": null,
   "id": "3b63936f-6056-4009-9f97-85318580d9f2",
   "metadata": {},
   "outputs": [],
   "source": []
  },
  {
   "cell_type": "code",
   "execution_count": null,
   "id": "5a7e4ea4-8341-426d-97a6-6669fd5aea73",
   "metadata": {},
   "outputs": [],
   "source": []
  },
  {
   "cell_type": "code",
   "execution_count": null,
   "id": "612aaaa9-51b2-4fcd-9caf-73fd2b01cc2d",
   "metadata": {},
   "outputs": [],
   "source": []
  },
  {
   "cell_type": "code",
   "execution_count": null,
   "id": "da7f783b-9123-4f05-ab02-bc251e40e488",
   "metadata": {},
   "outputs": [],
   "source": []
  },
  {
   "cell_type": "code",
   "execution_count": 56,
   "id": "3da4997f-f785-4401-8449-2dcf5ae7ac40",
   "metadata": {},
   "outputs": [],
   "source": [
    "x_indexes = np.arange(len(age_x))"
   ]
  },
  {
   "cell_type": "code",
   "execution_count": 83,
   "id": "40a58561-a8e4-403a-906a-9825e8d0d2ce",
   "metadata": {},
   "outputs": [
    {
     "data": {
      "image/png": "[encoded data removed]",
      "text/plain": [
       "<Figure size 1008x504 with 1 Axes>"
      ]
     },
     "metadata": {
      "needs_background": "light"
     },
     "output_type": "display_data"
    }
   ],
   "source": [
    "plt.figure(figsize=(14,7))\n",
    "\n",
    "width = 0.25\n",
    "\n",
    "# Python\n",
    "plt.bar(x_indexes - width, python_salary_y, width=width, label='Python Developers')\n",
    "\n",
    "# Java\n",
    "plt.bar(x_indexes, java_salary_y, width=width, label='Java Developers')\n",
    "\n",
    "# All developers\n",
    "plt.bar(x_indexes + width, all_salary_y, width=width, label='All Developers')\n",
    "\n",
    "\n",
    "plt.xticks(ticks=x_indexes, labels=age_x)\n",
    "plt.title('Age of Python Developers and Their Salaries')\n",
    "plt.xlabel('Age')\n",
    "plt.ylabel('Salary (USD)')\n",
    "plt.legend()\n",
    "plt.grid(alpha=0.6)\n",
    "plt.show()"
   ]
  },
  {
   "cell_type": "code",
   "execution_count": 125,
   "id": "92395fdf-497f-43af-8070-f4c500d743ff",
   "metadata": {},
   "outputs": [],
   "source": [
    "import pandas as pd\n",
    "data = pd.read_csv('data.csv', index_col=[0])"
   ]
  },
  {
   "cell_type": "code",
   "execution_count": 126,
   "id": "96b015b6-931d-4a8b-a209-f320a71b9bb0",
   "metadata": {},
   "outputs": [],
   "source": [
    "data.columns = ['Language', 'Frequency']"
   ]
  },
  {
   "cell_type": "code",
   "execution_count": 127,
   "id": "808a6371-1f0d-4187-9e21-fc8df4e9be65",
   "metadata": {},
   "outputs": [],
   "source": [
    "data.to_csv('data.csv')"
   ]
  },
  {
   "cell_type": "code",
   "execution_count": null,
   "id": "34800571-8970-4e1f-b6d7-3a3949e18c52",
   "metadata": {},
   "outputs": [],
   "source": []
  }
 ],
 "metadata": {
  "kernelspec": {
   "display_name": "Python 3 (ipykernel)",
   "language": "python",
   "name": "python3"
  },
  "language_info": {
   "codemirror_mode": {
    "name": "ipython",
    "version": 3
   },
   "file_extension": ".py",
   "mimetype": "text/x-python",
   "name": "python",
   "nbconvert_exporter": "python",
   "pygments_lexer": "ipython3",
   "version": "3.8.8"
  }
 },
 "nbformat": 4,
 "nbformat_minor": 5
}
